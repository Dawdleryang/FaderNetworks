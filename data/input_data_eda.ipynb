{
 "cells": [
  {
   "cell_type": "code",
   "execution_count": 1,
   "metadata": {},
   "outputs": [
    {
     "name": "stderr",
     "output_type": "stream",
     "text": [
      "/home/ubuntu/anaconda3/lib/python3.6/site-packages/matplotlib/__init__.py:1067: UserWarning: Duplicate key in file \"/home/ubuntu/.config/matplotlib/matplotlibrc\", line #2\n",
      "  (fname, cnt))\n",
      "/home/ubuntu/anaconda3/lib/python3.6/site-packages/matplotlib/__init__.py:1067: UserWarning: Duplicate key in file \"/home/ubuntu/.config/matplotlib/matplotlibrc\", line #3\n",
      "  (fname, cnt))\n"
     ]
    }
   ],
   "source": [
    "import pandas as pd"
   ]
  },
  {
   "cell_type": "code",
   "execution_count": 2,
   "metadata": {},
   "outputs": [
    {
     "name": "stdout",
     "output_type": "stream",
     "text": [
      "attributes.pth\t\t\t images_256_256.pth    list_attr_celeba.txt\r\n",
      "CelebA-20180522T203437Z-015.zip  img_align_celeba      preprocess.py\r\n",
      "images_256_256_20000.pth\t img_align_celeba.zip  Untitled.ipynb\r\n"
     ]
    }
   ],
   "source": [
    "! ls"
   ]
  },
  {
   "cell_type": "code",
   "execution_count": 53,
   "metadata": {},
   "outputs": [
    {
     "name": "stdout",
     "output_type": "stream",
     "text": [
      "Name 5_o_Clock_Shadow Arched_Eyebrows Attractive Bags_Under_Eyes Bald Bangs Big_Lips Big_Nose Black_Hair Blond_Hair Blurry Brown_Hair Bushy_Eyebrows Chubby Double_Chin Eyeglasses Goatee Gray_Hair Heavy_Makeup High_Cheekbones Male Mouth_Slightly_Open Mustache Narrow_Eyes No_Beard Oval_Face Pale_Skin Pointy_Nose Receding_Hairline Rosy_Cheeks Sideburns Smiling Straight_Hair Wavy_Hair Wearing_Earrings Wearing_Hat Wearing_Lipstick Wearing_Necklace Wearing_Necktie Young \r\n",
      "000001.jpg -1  1  1 -1 -1 -1 -1 -1 -1 -1 -1  1 -1 -1 -1 -1 -1 -1  1  1 -1  1 -1 -1  1 -1 -1  1 -1 -1 -1  1  1 -1  1 -1  1 -1 -1  1\r\n",
      "000002.jpg -1 -1 -1  1 -1 -1 -1  1 -1 -1 -1  1 -1 -1 -1 -1 -1 -1 -1  1 -1  1 -1 -1  1 -1 -1 -1 -1 -1 -1  1 -1 -1 -1 -1 -1 -1 -1  1\r\n",
      "000003.jpg -1 -1 -1 -1 -1 -1  1 -1 -1 -1  1 -1 -1 -1 -1 -1 -1 -1 -1 -1  1 -1 -1  1  1 -1 -1  1 -1 -1 -1 -1 -1  1 -1 -1 -1 -1 -1  1\r\n",
      "000004.jpg -1 -1  1 -1 -1 -1 -1 -1 -1 -1 -1 -1 -1 -1 -1 -1 -1 -1 -1 -1 -1 -1 -1 -1  1 -1 -1  1 -1 -1 -1 -1  1 -1  1 -1  1  1 -1  1\r\n",
      "000005.jpg -1  1  1 -1 -1 -1  1 -1 -1 -1 -1 -1 -1 -1 -1 -1 -1 -1  1 -1 -1 -1 -1  1  1 -1 -1  1 -1 -1 -1 -1 -1 -1 -1 -1  1 -1 -1  1\r\n",
      "000006.jpg -1  1  1 -1 -1 -1  1 -1 -1 -1 -1  1 -1 -1 -1 -1 -1 -1  1 -1 -1  1 -1 -1  1 -1 -1 -1 -1 -1 -1 -1 -1  1  1 -1  1 -1 -1  1\r\n",
      "000007.jpg 1 -1  1  1 -1 -1  1  1  1 -1 -1 -1  1 -1 -1 -1 -1 -1 -1 -1  1 -1 -1 -1  1 -1 -1  1 -1 -1 -1 -1  1 -1 -1 -1 -1 -1 -1  1\r\n",
      "000008.jpg 1  1 -1  1 -1 -1  1 -1  1 -1 -1 -1 -1 -1 -1 -1 -1 -1 -1 -1  1 -1 -1 -1  1 -1 -1  1 -1 -1 -1 -1 -1 -1 -1 -1 -1 -1 -1  1\r\n",
      "000009.jpg -1  1  1 -1 -1  1  1 -1 -1 -1 -1 -1 -1 -1 -1 -1 -1 -1  1  1 -1  1 -1 -1  1  1 -1  1 -1  1 -1  1 -1 -1  1 -1  1 -1 -1  1\r\n"
     ]
    }
   ],
   "source": [
    "! head list_attr_celeba.txt"
   ]
  },
  {
   "cell_type": "code",
   "execution_count": 54,
   "metadata": {},
   "outputs": [],
   "source": [
    "cols = \"Name 5_o_Clock_Shadow Arched_Eyebrows Attractive Bags_Under_Eyes Bald Bangs Big_Lips Big_Nose Black_Hair Blond_Hair Blurry Brown_Hair Bushy_Eyebrows Chubby Double_Chin Eyeglasses Goatee Gray_Hair Heavy_Makeup High_Cheekbones Male Mouth_Slightly_Open Mustache Narrow_Eyes No_Beard Oval_Face Pale_Skin Pointy_Nose Receding_Hairline Rosy_Cheeks Sideburns Smiling Straight_Hair Wavy_Hair Wearing_Earrings Wearing_Hat Wearing_Lipstick Wearing_Necklace Wearing_Necktie Young\"\n",
    "first_line = \"000001.jpg -1  1  1 -1 -1 -1 -1 -1 -1 -1 -1  1 -1 -1 -1 -1 -1 -1  1  1 -1  1 -1 -1  1 -1 -1  1 -1 -1 -1  1  1 -1  1 -1  1 -1 -1  1\""
   ]
  },
  {
   "cell_type": "markdown",
   "metadata": {},
   "source": [
    "### Test out a line"
   ]
  },
  {
   "cell_type": "code",
   "execution_count": 55,
   "metadata": {},
   "outputs": [
    {
     "name": "stdout",
     "output_type": "stream",
     "text": [
      "41 41\n",
      "['000001.jpg', '-1', '1', '1', '-1', '-1', '-1', '-1', '-1', '-1', '-1', '-1', '1', '-1', '-1', '-1', '-1', '-1', '-1', '1', '1', '-1', '1', '-1', '-1', '1', '-1', '-1', '1', '-1', '-1', '-1', '1', '1', '-1', '1', '-1', '1', '-1', '-1', '1']\n"
     ]
    }
   ],
   "source": [
    "list_attr = cols.split()\n",
    "line_attr = first_line.split()\n",
    "print(len(list_attr), len(line_attr))\n",
    "print(line_attr)"
   ]
  },
  {
   "cell_type": "code",
   "execution_count": 57,
   "metadata": {},
   "outputs": [],
   "source": [
    "celeb_df = pd.read_csv(\"list_attr_celeba.txt\", delimiter=r\"\\s+\")"
   ]
  },
  {
   "cell_type": "code",
   "execution_count": 59,
   "metadata": {},
   "outputs": [
    {
     "name": "stdout",
     "output_type": "stream",
     "text": [
      "<class 'pandas.core.frame.DataFrame'>\n",
      "RangeIndex: 202599 entries, 0 to 202598\n",
      "Data columns (total 41 columns):\n",
      "Name                   202599 non-null object\n",
      "5_o_Clock_Shadow       202599 non-null int64\n",
      "Arched_Eyebrows        202599 non-null int64\n",
      "Attractive             202599 non-null int64\n",
      "Bags_Under_Eyes        202599 non-null int64\n",
      "Bald                   202599 non-null int64\n",
      "Bangs                  202599 non-null int64\n",
      "Big_Lips               202599 non-null int64\n",
      "Big_Nose               202599 non-null int64\n",
      "Black_Hair             202599 non-null int64\n",
      "Blond_Hair             202599 non-null int64\n",
      "Blurry                 202599 non-null int64\n",
      "Brown_Hair             202599 non-null int64\n",
      "Bushy_Eyebrows         202599 non-null int64\n",
      "Chubby                 202599 non-null int64\n",
      "Double_Chin            202599 non-null int64\n",
      "Eyeglasses             202599 non-null int64\n",
      "Goatee                 202599 non-null int64\n",
      "Gray_Hair              202599 non-null int64\n",
      "Heavy_Makeup           202599 non-null int64\n",
      "High_Cheekbones        202599 non-null int64\n",
      "Male                   202599 non-null int64\n",
      "Mouth_Slightly_Open    202599 non-null int64\n",
      "Mustache               202599 non-null int64\n",
      "Narrow_Eyes            202599 non-null int64\n",
      "No_Beard               202599 non-null int64\n",
      "Oval_Face              202599 non-null int64\n",
      "Pale_Skin              202599 non-null int64\n",
      "Pointy_Nose            202599 non-null int64\n",
      "Receding_Hairline      202599 non-null int64\n",
      "Rosy_Cheeks            202599 non-null int64\n",
      "Sideburns              202599 non-null int64\n",
      "Smiling                202599 non-null int64\n",
      "Straight_Hair          202599 non-null int64\n",
      "Wavy_Hair              202599 non-null int64\n",
      "Wearing_Earrings       202599 non-null int64\n",
      "Wearing_Hat            202599 non-null int64\n",
      "Wearing_Lipstick       202599 non-null int64\n",
      "Wearing_Necklace       202599 non-null int64\n",
      "Wearing_Necktie        202599 non-null int64\n",
      "Young                  202599 non-null int64\n",
      "dtypes: int64(40), object(1)\n",
      "memory usage: 63.4+ MB\n"
     ]
    }
   ],
   "source": [
    "celeb_df.info()"
   ]
  },
  {
   "cell_type": "code",
   "execution_count": 62,
   "metadata": {},
   "outputs": [
    {
     "name": "stdout",
     "output_type": "stream",
     "text": [
      "-1    180083\n",
      " 1     22516\n",
      "Name: 5_o_Clock_Shadow, dtype: int64\n",
      "-1    148509\n",
      " 1     54090\n",
      "Name: Arched_Eyebrows, dtype: int64\n",
      " 1    103833\n",
      "-1     98766\n",
      "Name: Attractive, dtype: int64\n",
      "-1    161153\n",
      " 1     41446\n",
      "Name: Bags_Under_Eyes, dtype: int64\n",
      "-1    198052\n",
      " 1      4547\n",
      "Name: Bald, dtype: int64\n",
      "-1    171890\n",
      " 1     30709\n",
      "Name: Bangs, dtype: int64\n",
      "-1    153814\n",
      " 1     48785\n",
      "Name: Big_Lips, dtype: int64\n",
      "-1    155083\n",
      " 1     47516\n",
      "Name: Big_Nose, dtype: int64\n",
      "-1    154127\n",
      " 1     48472\n",
      "Name: Black_Hair, dtype: int64\n",
      "-1    172616\n",
      " 1     29983\n",
      "Name: Blond_Hair, dtype: int64\n",
      "-1    192287\n",
      " 1     10312\n",
      "Name: Blurry, dtype: int64\n",
      "-1    161027\n",
      " 1     41572\n",
      "Name: Brown_Hair, dtype: int64\n",
      "-1    173796\n",
      " 1     28803\n",
      "Name: Bushy_Eyebrows, dtype: int64\n",
      "-1    190936\n",
      " 1     11663\n",
      "Name: Chubby, dtype: int64\n",
      "-1    193140\n",
      " 1      9459\n",
      "Name: Double_Chin, dtype: int64\n",
      "-1    189406\n",
      " 1     13193\n",
      "Name: Eyeglasses, dtype: int64\n",
      "-1    189883\n",
      " 1     12716\n",
      "Name: Goatee, dtype: int64\n",
      "-1    194100\n",
      " 1      8499\n",
      "Name: Gray_Hair, dtype: int64\n",
      "-1    124209\n",
      " 1     78390\n",
      "Name: Heavy_Makeup, dtype: int64\n",
      "-1    110410\n",
      " 1     92189\n",
      "Name: High_Cheekbones, dtype: int64\n",
      "-1    118165\n",
      " 1     84434\n",
      "Name: Male, dtype: int64\n",
      "-1    104657\n",
      " 1     97942\n",
      "Name: Mouth_Slightly_Open, dtype: int64\n",
      "-1    194182\n",
      " 1      8417\n",
      "Name: Mustache, dtype: int64\n",
      "-1    179270\n",
      " 1     23329\n",
      "Name: Narrow_Eyes, dtype: int64\n",
      " 1    169158\n",
      "-1     33441\n",
      "Name: No_Beard, dtype: int64\n",
      "-1    145032\n",
      " 1     57567\n",
      "Name: Oval_Face, dtype: int64\n",
      "-1    193898\n",
      " 1      8701\n",
      "Name: Pale_Skin, dtype: int64\n",
      "-1    146389\n",
      " 1     56210\n",
      "Name: Pointy_Nose, dtype: int64\n",
      "-1    186436\n",
      " 1     16163\n",
      "Name: Receding_Hairline, dtype: int64\n",
      "-1    189284\n",
      " 1     13315\n",
      "Name: Rosy_Cheeks, dtype: int64\n",
      "-1    191150\n",
      " 1     11449\n",
      "Name: Sideburns, dtype: int64\n",
      "-1    104930\n",
      " 1     97669\n",
      "Name: Smiling, dtype: int64\n",
      "-1    160377\n",
      " 1     42222\n",
      "Name: Straight_Hair, dtype: int64\n",
      "-1    137855\n",
      " 1     64744\n",
      "Name: Wavy_Hair, dtype: int64\n",
      "-1    164323\n",
      " 1     38276\n",
      "Name: Wearing_Earrings, dtype: int64\n",
      "-1    192781\n",
      " 1      9818\n",
      "Name: Wearing_Hat, dtype: int64\n",
      "-1    106884\n",
      " 1     95715\n",
      "Name: Wearing_Lipstick, dtype: int64\n",
      "-1    177686\n",
      " 1     24913\n",
      "Name: Wearing_Necklace, dtype: int64\n",
      "-1    187867\n",
      " 1     14732\n",
      "Name: Wearing_Necktie, dtype: int64\n",
      " 1    156734\n",
      "-1     45865\n",
      "Name: Young, dtype: int64\n"
     ]
    }
   ],
   "source": [
    "for col in celeb_df:\n",
    "    if col != 'Name':\n",
    "        print(celeb_df[col].value_counts())"
   ]
  },
  {
   "cell_type": "code",
   "execution_count": 25,
   "metadata": {},
   "outputs": [],
   "source": [
    "df = pd.read_csv('mona-v3-inference.csv')"
   ]
  },
  {
   "cell_type": "code",
   "execution_count": 26,
   "metadata": {},
   "outputs": [
    {
     "data": {
      "text/html": [
       "<div>\n",
       "<style scoped>\n",
       "    .dataframe tbody tr th:only-of-type {\n",
       "        vertical-align: middle;\n",
       "    }\n",
       "\n",
       "    .dataframe tbody tr th {\n",
       "        vertical-align: top;\n",
       "    }\n",
       "\n",
       "    .dataframe thead th {\n",
       "        text-align: right;\n",
       "    }\n",
       "</style>\n",
       "<table border=\"1\" class=\"dataframe\">\n",
       "  <thead>\n",
       "    <tr style=\"text-align: right;\">\n",
       "      <th></th>\n",
       "      <th>cid_file</th>\n",
       "      <th>gender_appearance</th>\n",
       "      <th>confidence</th>\n",
       "      <th>age_appearance</th>\n",
       "      <th>confidence.1</th>\n",
       "      <th>eyeglass</th>\n",
       "      <th>eyeglass_conf</th>\n",
       "      <th>hat</th>\n",
       "      <th>hat_conf</th>\n",
       "    </tr>\n",
       "  </thead>\n",
       "  <tbody>\n",
       "    <tr>\n",
       "      <th>0</th>\n",
       "      <td>10000137.jpg</td>\n",
       "      <td>Female</td>\n",
       "      <td>0.731679</td>\n",
       "      <td>25-32</td>\n",
       "      <td>0.884665</td>\n",
       "      <td>False</td>\n",
       "      <td>0.999998</td>\n",
       "      <td>False</td>\n",
       "      <td>0.978101</td>\n",
       "    </tr>\n",
       "    <tr>\n",
       "      <th>1</th>\n",
       "      <td>10001089.jpg</td>\n",
       "      <td>Male</td>\n",
       "      <td>0.998711</td>\n",
       "      <td>25-32</td>\n",
       "      <td>0.997852</td>\n",
       "      <td>False</td>\n",
       "      <td>0.999995</td>\n",
       "      <td>False</td>\n",
       "      <td>0.784673</td>\n",
       "    </tr>\n",
       "    <tr>\n",
       "      <th>2</th>\n",
       "      <td>10003198.jpg</td>\n",
       "      <td>Female</td>\n",
       "      <td>0.747007</td>\n",
       "      <td>8-13</td>\n",
       "      <td>0.717408</td>\n",
       "      <td>False</td>\n",
       "      <td>0.999990</td>\n",
       "      <td>True</td>\n",
       "      <td>0.999933</td>\n",
       "    </tr>\n",
       "    <tr>\n",
       "      <th>3</th>\n",
       "      <td>10005661.jpg</td>\n",
       "      <td>Female</td>\n",
       "      <td>0.747007</td>\n",
       "      <td>8-13</td>\n",
       "      <td>0.717408</td>\n",
       "      <td>False</td>\n",
       "      <td>0.999990</td>\n",
       "      <td>True</td>\n",
       "      <td>0.999933</td>\n",
       "    </tr>\n",
       "    <tr>\n",
       "      <th>4</th>\n",
       "      <td>10011039.jpg</td>\n",
       "      <td>Female</td>\n",
       "      <td>0.970825</td>\n",
       "      <td>0-2</td>\n",
       "      <td>0.928821</td>\n",
       "      <td>False</td>\n",
       "      <td>0.999867</td>\n",
       "      <td>False</td>\n",
       "      <td>0.991012</td>\n",
       "    </tr>\n",
       "  </tbody>\n",
       "</table>\n",
       "</div>"
      ],
      "text/plain": [
       "       cid_file gender_appearance  confidence age_appearance  confidence.1  \\\n",
       "0  10000137.jpg            Female    0.731679          25-32      0.884665   \n",
       "1  10001089.jpg              Male    0.998711          25-32      0.997852   \n",
       "2  10003198.jpg            Female    0.747007           8-13      0.717408   \n",
       "3  10005661.jpg            Female    0.747007           8-13      0.717408   \n",
       "4  10011039.jpg            Female    0.970825            0-2      0.928821   \n",
       "\n",
       "   eyeglass  eyeglass_conf    hat  hat_conf  \n",
       "0     False       0.999998  False  0.978101  \n",
       "1     False       0.999995  False  0.784673  \n",
       "2     False       0.999990   True  0.999933  \n",
       "3     False       0.999990   True  0.999933  \n",
       "4     False       0.999867  False  0.991012  "
      ]
     },
     "execution_count": 26,
     "metadata": {},
     "output_type": "execute_result"
    }
   ],
   "source": [
    "df.head()"
   ]
  },
  {
   "cell_type": "code",
   "execution_count": 27,
   "metadata": {},
   "outputs": [
    {
     "name": "stdout",
     "output_type": "stream",
     "text": [
      "<class 'pandas.core.frame.DataFrame'>\n",
      "RangeIndex: 4000000 entries, 0 to 3999999\n",
      "Data columns (total 9 columns):\n",
      "cid_file             object\n",
      "gender_appearance    object\n",
      "confidence           float64\n",
      "age_appearance       object\n",
      "confidence.1         float64\n",
      "eyeglass             bool\n",
      "eyeglass_conf        float64\n",
      "hat                  bool\n",
      "hat_conf             float64\n",
      "dtypes: bool(2), float64(4), object(3)\n",
      "memory usage: 221.3+ MB\n"
     ]
    }
   ],
   "source": [
    "df.info()"
   ]
  },
  {
   "cell_type": "code",
   "execution_count": 29,
   "metadata": {},
   "outputs": [
    {
     "name": "stdout",
     "output_type": "stream",
     "text": [
      "False    3452072\n",
      "True      547928\n",
      "Name: hat, dtype: int64\n"
     ]
    }
   ],
   "source": [
    "print(df['hat'].value_counts())"
   ]
  },
  {
   "cell_type": "code",
   "execution_count": 30,
   "metadata": {},
   "outputs": [
    {
     "name": "stdout",
     "output_type": "stream",
     "text": [
      "False    3235711\n",
      "True      764289\n",
      "Name: eyeglass, dtype: int64\n"
     ]
    }
   ],
   "source": [
    "print(df['eyeglass'].value_counts())"
   ]
  },
  {
   "cell_type": "code",
   "execution_count": 4,
   "metadata": {},
   "outputs": [],
   "source": [
    "CELEBA_FACE_PATH = '/home/ubuntu/FaderNetworks/data/img_align_celeba/055141.jpg'"
   ]
  },
  {
   "cell_type": "code",
   "execution_count": 5,
   "metadata": {},
   "outputs": [
    {
     "data": {
      "image/jpeg": "[encoded data removed]",
      "text/plain": [
       "<IPython.core.display.Image object>"
      ]
     },
     "execution_count": 5,
     "metadata": {},
     "output_type": "execute_result"
    }
   ],
   "source": [
    "from IPython.display import Image\n",
    "Image(CELEBA_FACE_PATH)"
   ]
  },
  {
   "cell_type": "code",
   "execution_count": 6,
   "metadata": {},
   "outputs": [
    {
     "name": "stdout",
     "output_type": "stream",
     "text": [
      "(178, 218)\n"
     ]
    }
   ],
   "source": [
    "from PIL import Image\n",
    "\n",
    "im = Image.open(CELEBA_FACE_PATH)\n",
    "print(im.size)"
   ]
  },
  {
   "cell_type": "code",
   "execution_count": 7,
   "metadata": {},
   "outputs": [],
   "source": [
    "STOCK_FACE_PATH = '/home/ubuntu/faces/10000137.jpg'"
   ]
  },
  {
   "cell_type": "code",
   "execution_count": 8,
   "metadata": {},
   "outputs": [
    {
     "data": {
      "image/jpeg": "[encoded data removed]",
      "text/plain": [
       "<IPython.core.display.Image object>"
      ]
     },
     "execution_count": 8,
     "metadata": {},
     "output_type": "execute_result"
    }
   ],
   "source": [
    "from IPython.display import Image\n",
    "Image(STOCK_FACE_PATH)"
   ]
  },
  {
   "cell_type": "code",
   "execution_count": 9,
   "metadata": {},
   "outputs": [
    {
     "name": "stdout",
     "output_type": "stream",
     "text": [
      "(155, 155)\n"
     ]
    }
   ],
   "source": [
    "from PIL import Image\n",
    "im = Image.open(STOCK_FACE_PATH)\n",
    "print(im.size)"
   ]
  },
  {
   "cell_type": "code",
   "execution_count": 10,
   "metadata": {},
   "outputs": [
    {
     "name": "stdout",
     "output_type": "stream",
     "text": [
      "2041494\r\n"
     ]
    }
   ],
   "source": [
    "! ls /home/ubuntu/faces/ | wc -l"
   ]
  },
  {
   "cell_type": "code",
   "execution_count": 11,
   "metadata": {},
   "outputs": [
    {
     "name": "stdout",
     "output_type": "stream",
     "text": [
      "202599\r\n"
     ]
    }
   ],
   "source": [
    "! ls /home/ubuntu/FaderNetworks/data/img_align_celeba/ | wc -l"
   ]
  },
  {
   "cell_type": "code",
   "execution_count": 12,
   "metadata": {},
   "outputs": [],
   "source": [
    "from PIL import Image\n",
    "img = Image.open(CELEBA_FACE_PATH)"
   ]
  },
  {
   "cell_type": "code",
   "execution_count": 13,
   "metadata": {},
   "outputs": [],
   "source": [
    "img = img.resize((64,64), Image.ANTIALIAS)"
   ]
  },
  {
   "cell_type": "code",
   "execution_count": 15,
   "metadata": {},
   "outputs": [
    {
     "data": {
      "text/plain": [
       "PIL.Image.Image"
      ]
     },
     "execution_count": 15,
     "metadata": {},
     "output_type": "execute_result"
    }
   ],
   "source": [
    "type(img)"
   ]
  },
  {
   "cell_type": "code",
   "execution_count": 16,
   "metadata": {},
   "outputs": [
    {
     "name": "stderr",
     "output_type": "stream",
     "text": [
      "/home/ubuntu/anaconda3/lib/python3.6/site-packages/matplotlib/__init__.py:1067: UserWarning: Duplicate key in file \"/home/ubuntu/.config/matplotlib/matplotlibrc\", line #2\n",
      "  (fname, cnt))\n",
      "/home/ubuntu/anaconda3/lib/python3.6/site-packages/matplotlib/__init__.py:1067: UserWarning: Duplicate key in file \"/home/ubuntu/.config/matplotlib/matplotlibrc\", line #3\n",
      "  (fname, cnt))\n"
     ]
    },
    {
     "data": {
      "text/plain": [
       "<matplotlib.image.AxesImage at 0x7f41cb94b208>"
      ]
     },
     "execution_count": 16,
     "metadata": {},
     "output_type": "execute_result"
    },
    {
     "data": {
      "image/png": "[encoded data removed]",
      "text/plain": [
       "<Figure size 432x288 with 1 Axes>"
      ]
     },
     "metadata": {},
     "output_type": "display_data"
    }
   ],
   "source": [
    "from matplotlib.pyplot import imshow\n",
    "import numpy as np\n",
    "\n",
    "%matplotlib inline\n",
    "#pil_im = Image.open('data/empire.jpg', 'r')\n",
    "imshow(np.asarray(img))"
   ]
  },
  {
   "cell_type": "code",
   "execution_count": 17,
   "metadata": {},
   "outputs": [
    {
     "ename": "SyntaxError",
     "evalue": "unexpected EOF while parsing (<ipython-input-17-fee9a254ca92>, line 8)",
     "output_type": "error",
     "traceback": [
      "\u001b[0;36m  File \u001b[0;32m\"<ipython-input-17-fee9a254ca92>\"\u001b[0;36m, line \u001b[0;32m8\u001b[0m\n\u001b[0;31m    #             imResize.save(f + ' resized.jpg', 'JPEG', quality=90)\u001b[0m\n\u001b[0m                                                                       ^\u001b[0m\n\u001b[0;31mSyntaxError\u001b[0m\u001b[0;31m:\u001b[0m unexpected EOF while parsing\n"
     ]
    }
   ],
   "source": [
    "DIR_PATH = '/home/ubuntu/FaderNetworks/data/img_align_celeba/'\n",
    "def resize():\n",
    "    for item in DIR_PATH:\n",
    "        if os.path.isfile(DIR_PATH)\n",
    "#         if os.path.isfile(path+item):\n",
    "#             im = Image.open(path+item)\n",
    "#             f, e = os.path.splitext(path+item)\n",
    "#             imResize = im.resize((200,200), Image.ANTIALIAS)\n",
    "#             imResize.save(f + ' resized.jpg', 'JPEG', quality=90)"
   ]
  },
  {
   "cell_type": "code",
   "execution_count": 29,
   "metadata": {},
   "outputs": [],
   "source": [
    "import os, sys\n",
    "dirs = os.listdir('/home/ubuntu/FaderNetworks/data/img_align_celeba')"
   ]
  },
  {
   "cell_type": "code",
   "execution_count": null,
   "metadata": {},
   "outputs": [],
   "source": []
  }
 ],
 "metadata": {
  "kernelspec": {
   "display_name": "Python 3",
   "language": "python",
   "name": "python3"
  },
  "language_info": {
   "codemirror_mode": {
    "name": "ipython",
    "version": 3
   },
   "file_extension": ".py",
   "mimetype": "text/x-python",
   "name": "python",
   "nbconvert_exporter": "python",
   "pygments_lexer": "ipython3",
   "version": "3.6.4"
  }
 },
 "nbformat": 4,
 "nbformat_minor": 2
}
