{
 "cells": [
  {
   "cell_type": "code",
   "execution_count": 2,
   "metadata": {},
   "outputs": [],
   "source": [
    "from src.loader import load_images, DataSampler"
   ]
  },
  {
   "cell_type": "markdown",
   "metadata": {},
   "source": [
    "#### Load images "
   ]
  },
  {
   "cell_type": "code",
   "execution_count": 3,
   "metadata": {},
   "outputs": [
    {
     "name": "stdout",
     "output_type": "stream",
     "text": [
      "attributes.pth\t\t\t img_align_celeba\n",
      "CelebA-20180522T203437Z-015.zip  img_align_celeba.zip\n",
      "celeba_64.hdf5\t\t\t input_data_eda.ipynb\n",
      "cifar-10-python.tar.gz\t\t list_attr_celeba.txt\n",
      "images_256_256_20000.pth\t mona-v3-inference.csv\n",
      "images_256_256.pth\t\t preprocess.py\n"
     ]
    }
   ],
   "source": [
    "! ls data"
   ]
  },
  {
   "cell_type": "code",
   "execution_count": 4,
   "metadata": {},
   "outputs": [],
   "source": [
    "images_filename = 'images_%i_%i_20000.pth'"
   ]
  },
  {
   "cell_type": "code",
   "execution_count": 5,
   "metadata": {},
   "outputs": [],
   "source": [
    "images_filename = images_filename % (256, 256)"
   ]
  },
  {
   "cell_type": "code",
   "execution_count": 6,
   "metadata": {},
   "outputs": [],
   "source": [
    "import torch\n",
    "images = torch.load(f'data/{images_filename}')"
   ]
  },
  {
   "cell_type": "code",
   "execution_count": 7,
   "metadata": {},
   "outputs": [],
   "source": [
    "attributes = torch.load('data/attributes.pth')"
   ]
  },
  {
   "cell_type": "code",
   "execution_count": 8,
   "metadata": {},
   "outputs": [
    {
     "data": {
      "text/plain": [
       "dict_keys(['5_o_Clock_Shadow', 'Arched_Eyebrows', 'Attractive', 'Bags_Under_Eyes', 'Bald', 'Bangs', 'Big_Lips', 'Big_Nose', 'Black_Hair', 'Blond_Hair', 'Blurry', 'Brown_Hair', 'Bushy_Eyebrows', 'Chubby', 'Double_Chin', 'Eyeglasses', 'Goatee', 'Gray_Hair', 'Heavy_Makeup', 'High_Cheekbones', 'Male', 'Mouth_Slightly_Open', 'Mustache', 'Narrow_Eyes', 'No_Beard', 'Oval_Face', 'Pale_Skin', 'Pointy_Nose', 'Receding_Hairline', 'Rosy_Cheeks', 'Sideburns', 'Smiling', 'Straight_Hair', 'Wavy_Hair', 'Wearing_Earrings', 'Wearing_Hat', 'Wearing_Lipstick', 'Wearing_Necklace', 'Wearing_Necktie', 'Young'])"
      ]
     },
     "execution_count": 8,
     "metadata": {},
     "output_type": "execute_result"
    }
   ],
   "source": [
    "attributes.keys()"
   ]
  },
  {
   "cell_type": "code",
   "execution_count": 9,
   "metadata": {},
   "outputs": [],
   "source": [
    "AVAILABLE_ATTR = [\n",
    "    \"5_o_Clock_Shadow\", \"Arched_Eyebrows\", \"Attractive\", \"Bags_Under_Eyes\", \"Bald\",\n",
    "    \"Bangs\", \"Big_Lips\", \"Big_Nose\", \"Black_Hair\", \"Blond_Hair\", \"Blurry\", \"Brown_Hair\",\n",
    "    \"Bushy_Eyebrows\", \"Chubby\", \"Double_Chin\", \"Eyeglasses\", \"Goatee\", \"Gray_Hair\",\n",
    "    \"Heavy_Makeup\", \"High_Cheekbones\", \"Male\", \"Mouth_Slightly_Open\", \"Mustache\",\n",
    "    \"Narrow_Eyes\", \"No_Beard\", \"Oval_Face\", \"Pale_Skin\", \"Pointy_Nose\",\n",
    "    \"Receding_Hairline\", \"Rosy_Cheeks\", \"Sideburns\", \"Smiling\", \"Straight_Hair\",\n",
    "    \"Wavy_Hair\", \"Wearing_Earrings\", \"Wearing_Hat\", \"Wearing_Lipstick\",\n",
    "    \"Wearing_Necklace\", \"Wearing_Necktie\", \"Young\"\n",
    "]"
   ]
  },
  {
   "cell_type": "code",
   "execution_count": 10,
   "metadata": {},
   "outputs": [],
   "source": [
    "def attr_flag(s):\n",
    "    \"\"\"\n",
    "    Parse attributes parameters.\n",
    "    \"\"\"\n",
    "    if s == \"*\":\n",
    "        return s\n",
    "    attr = s.split(',')\n",
    "    assert len(attr) == len(set(attr))\n",
    "    attributes = []\n",
    "    for x in attr:\n",
    "        if '.' not in x:\n",
    "            attributes.append((x, 2))\n",
    "        else:\n",
    "            split = x.split('.')\n",
    "            assert len(split) == 2 and len(split[0]) > 0\n",
    "            assert split[1].isdigit() and int(split[1]) >= 2\n",
    "            attributes.append((split[0], int(split[1])))\n",
    "    return sorted(attributes, key=lambda x: (x[1], x[0]))"
   ]
  },
  {
   "cell_type": "code",
   "execution_count": 11,
   "metadata": {},
   "outputs": [],
   "source": [
    "input_attrs = attr_flag(','.join(AVAILABLE_ATTR))"
   ]
  },
  {
   "cell_type": "code",
   "execution_count": 12,
   "metadata": {},
   "outputs": [
    {
     "data": {
      "text/plain": [
       "([('5_o_Clock_Shadow', 2),\n",
       "  ('Arched_Eyebrows', 2),\n",
       "  ('Attractive', 2),\n",
       "  ('Bags_Under_Eyes', 2),\n",
       "  ('Bald', 2),\n",
       "  ('Bangs', 2),\n",
       "  ('Big_Lips', 2),\n",
       "  ('Big_Nose', 2),\n",
       "  ('Black_Hair', 2),\n",
       "  ('Blond_Hair', 2),\n",
       "  ('Blurry', 2),\n",
       "  ('Brown_Hair', 2),\n",
       "  ('Bushy_Eyebrows', 2),\n",
       "  ('Chubby', 2),\n",
       "  ('Double_Chin', 2),\n",
       "  ('Eyeglasses', 2),\n",
       "  ('Goatee', 2),\n",
       "  ('Gray_Hair', 2),\n",
       "  ('Heavy_Makeup', 2),\n",
       "  ('High_Cheekbones', 2),\n",
       "  ('Male', 2),\n",
       "  ('Mouth_Slightly_Open', 2),\n",
       "  ('Mustache', 2),\n",
       "  ('Narrow_Eyes', 2),\n",
       "  ('No_Beard', 2),\n",
       "  ('Oval_Face', 2),\n",
       "  ('Pale_Skin', 2),\n",
       "  ('Pointy_Nose', 2),\n",
       "  ('Receding_Hairline', 2),\n",
       "  ('Rosy_Cheeks', 2),\n",
       "  ('Sideburns', 2),\n",
       "  ('Smiling', 2),\n",
       "  ('Straight_Hair', 2),\n",
       "  ('Wavy_Hair', 2),\n",
       "  ('Wearing_Earrings', 2),\n",
       "  ('Wearing_Hat', 2),\n",
       "  ('Wearing_Lipstick', 2),\n",
       "  ('Wearing_Necklace', 2),\n",
       "  ('Wearing_Necktie', 2),\n",
       "  ('Young', 2)],\n",
       " 40)"
      ]
     },
     "execution_count": 12,
     "metadata": {},
     "output_type": "execute_result"
    }
   ],
   "source": [
    "input_attrs, len(input_attrs)"
   ]
  },
  {
   "cell_type": "code",
   "execution_count": 13,
   "metadata": {},
   "outputs": [],
   "source": [
    "import numpy as np\n",
    "attrs = []\n",
    "for name, n_cat in input_attrs:\n",
    "    for i in range(n_cat):\n",
    "        attrs.append(torch.FloatTensor((attributes[name] == i).astype(np.float32)))"
   ]
  },
  {
   "cell_type": "code",
   "execution_count": 14,
   "metadata": {},
   "outputs": [
    {
     "data": {
      "text/plain": [
       "torch.Size([202599])"
      ]
     },
     "execution_count": 14,
     "metadata": {},
     "output_type": "execute_result"
    }
   ],
   "source": [
    "attrs[0].shape"
   ]
  },
  {
   "cell_type": "code",
   "execution_count": 15,
   "metadata": {},
   "outputs": [],
   "source": [
    "attributes = torch.cat([x.unsqueeze(1) for x in attrs], 1)"
   ]
  },
  {
   "cell_type": "code",
   "execution_count": 16,
   "metadata": {},
   "outputs": [
    {
     "data": {
      "text/plain": [
       "torch.Size([202599, 80])"
      ]
     },
     "execution_count": 16,
     "metadata": {},
     "output_type": "execute_result"
    }
   ],
   "source": [
    "attributes.shape"
   ]
  },
  {
   "cell_type": "markdown",
   "metadata": {},
   "source": [
    "### Implementation\n",
    "\n",
    "\n",
    "\n"
   ]
  },
  {
   "cell_type": "code",
   "execution_count": 41,
   "metadata": {},
   "outputs": [
    {
     "data": {
      "image/png": "[encoded data removed]",
      "text/plain": [
       "<IPython.core.display.Image object>"
      ]
     },
     "execution_count": 41,
     "metadata": {},
     "output_type": "execute_result"
    }
   ],
   "source": [
    "from IPython.display import Image\n",
    "from IPython.core.display import HTML \n",
    "Image(filename= \"images/v3.png\")"
   ]
  },
  {
   "cell_type": "markdown",
   "metadata": {},
   "source": [
    "Let $C_k$ be a Convolution-BatchNorm-ReLU layer with $k$ filters. Convolutions use kernel of size $4 X 4$, with a stride of 2, and a padding of 1, so that\n",
    "each layer of the encoder divides the size of its input by 2. We use leaky-ReLUs with a slope of 0.2\n",
    "in the encoder, and simple ReLUs in the decod"
   ]
  },
  {
   "cell_type": "markdown",
   "metadata": {},
   "source": [
    "### Autoencoder"
   ]
  },
  {
   "cell_type": "code",
   "execution_count": 18,
   "metadata": {},
   "outputs": [],
   "source": [
    "from torch import nn"
   ]
  },
  {
   "cell_type": "code",
   "execution_count": 20,
   "metadata": {},
   "outputs": [],
   "source": [
    "def build_layers(img_sz, img_fm, init_fm, max_fm, n_layers, n_attr, n_skip,\n",
    "                 deconv_method, instance_norm, enc_dropout, dec_dropout):\n",
    "    \"\"\"\n",
    "    Build auto-encoder layers.\n",
    "    \"\"\"\n",
    "    assert init_fm <= max_fm\n",
    "    assert n_skip <= n_layers - 1\n",
    "    assert np.log2(img_sz).is_integer()\n",
    "    assert n_layers <= int(np.log2(img_sz))\n",
    "    assert type(instance_norm) is bool\n",
    "    assert 0 <= enc_dropout < 1\n",
    "    assert 0 <= dec_dropout < 1\n",
    "    norm_fn = nn.InstanceNorm2d if instance_norm else nn.BatchNorm2d\n",
    "\n",
    "    enc_layers = []\n",
    "    dec_layers = []\n",
    "\n",
    "    n_in = img_fm\n",
    "    n_out = init_fm\n",
    "\n",
    "    for i in range(n_layers):\n",
    "        enc_layer = []\n",
    "        dec_layer = []\n",
    "        skip_connection = n_layers - (n_skip + 1) <= i < n_layers - 1\n",
    "        n_dec_in = n_out + n_attr + (n_out if skip_connection else 0)\n",
    "        n_dec_out = n_in\n",
    "\n",
    "        # encoder layer\n",
    "        enc_layer.append(nn.Conv2d(n_in, n_out, 4, 2, 1))\n",
    "        if i > 0:\n",
    "            enc_layer.append(norm_fn(n_out, affine=True))\n",
    "        enc_layer.append(nn.LeakyReLU(0.2, inplace=True))\n",
    "        if enc_dropout > 0:\n",
    "            enc_layer.append(nn.Dropout(enc_dropout))\n",
    "\n",
    "        # decoder layer\n",
    "        if deconv_method == 'upsampling':\n",
    "            dec_layer.append(nn.UpsamplingNearest2d(scale_factor=2))\n",
    "            dec_layer.append(nn.Conv2d(n_dec_in, n_dec_out, 3, 1, 1))\n",
    "        elif deconv_method == 'convtranspose':\n",
    "            dec_layer.append(nn.ConvTranspose2d(n_dec_in, n_dec_out, 4, 2, 1, bias=False))\n",
    "        else:\n",
    "            assert deconv_method == 'pixelshuffle'\n",
    "            dec_layer.append(nn.Conv2d(n_dec_in, n_dec_out * 4, 3, 1, 1))\n",
    "            dec_layer.append(nn.PixelShuffle(2))\n",
    "        if i > 0:\n",
    "            dec_layer.append(norm_fn(n_dec_out, affine=True))\n",
    "            if dec_dropout > 0 and i >= n_layers - 3:\n",
    "                dec_layer.append(nn.Dropout(dec_dropout))\n",
    "            dec_layer.append(nn.ReLU(inplace=True))\n",
    "        else:\n",
    "            dec_layer.append(nn.Tanh())\n",
    "\n",
    "        # update\n",
    "        n_in = n_out\n",
    "        n_out = min(2 * n_out, max_fm)\n",
    "        enc_layers.append(nn.Sequential(*enc_layer))\n",
    "        dec_layers.insert(0, nn.Sequential(*dec_layer))\n",
    "\n",
    "    return enc_layers, dec_layers"
   ]
  },
  {
   "cell_type": "code",
   "execution_count": 27,
   "metadata": {},
   "outputs": [],
   "source": [
    "class AutoEncoder(nn.Module):\n",
    "    def __init__(self, img_sz, img_fz, instance_norm, init_fm, max_fm, n_layers, n_skip, deconv_method, dec_dropout, attr, n_attr):\n",
    "        super(AutoEncoder, self).__init__()\n",
    "\n",
    "        self.img_sz = img_sz #Image sizes (images have to be squared)\n",
    "        self.img_fm = img_fm #Number of feature maps (3 for RGB)\n",
    "        self.instance_norm = instance_norm # Use instance normalization instead of batch normalization\n",
    "        self.init_fm = init_fm #Number of initial filters in the encoder\n",
    "        self.max_fm = max_fm #Number maximum of filters in the autoencoder\n",
    "        self.n_layers = n_layers #Number of layers in the encoder / decoder\n",
    "        self.n_skip = n_skip #Number of skip connections\n",
    "        self.deconv_method = deconv_method # Deconvolution method (default : convtranspose)\n",
    "        self.dropout = dec_dropout #Dropout in the decoder\n",
    "        self.attr = attr\n",
    "        self.n_attr = n_attr\n",
    "\n",
    "        enc_layers, dec_layers = build_layers(self.img_sz, self.img_fm, self.init_fm,\n",
    "                                              self.max_fm, self.n_layers, self.n_attr,\n",
    "                                              self.n_skip, self.deconv_method,\n",
    "                                              self.instance_norm, 0, self.dropout)\n",
    "        self.enc_layers = nn.ModuleList(enc_layers)\n",
    "        self.dec_layers = nn.ModuleList(dec_layers)\n",
    "\n",
    "    def encode(self, x):\n",
    "        assert x.size()[1:] == (self.img_fm, self.img_sz, self.img_sz)\n",
    "\n",
    "        enc_outputs = [x]\n",
    "        for layer in self.enc_layers:\n",
    "            enc_outputs.append(layer(enc_outputs[-1]))\n",
    "\n",
    "        assert len(enc_outputs) == self.n_layers + 1\n",
    "        return enc_outputs\n",
    "\n",
    "    def decode(self, enc_outputs, y):\n",
    "        bs = enc_outputs[0].size(0)\n",
    "        assert len(enc_outputs) == self.n_layers + 1\n",
    "        assert y.size() == (bs, self.n_attr)\n",
    "\n",
    "        dec_outputs = [enc_outputs[-1]]\n",
    "        y = y.unsqueeze(2).unsqueeze(3)\n",
    "        for i, layer in enumerate(self.dec_layers):\n",
    "            size = dec_outputs[-1].size(2)\n",
    "            # attributes\n",
    "            input = [dec_outputs[-1], y.expand(bs, self.n_attr, size, size)]\n",
    "            # skip connection\n",
    "            if 0 < i <= self.n_skip:\n",
    "                input.append(enc_outputs[-1 - i])\n",
    "            input = torch.cat(input, 1)\n",
    "            dec_outputs.append(layer(input))\n",
    "\n",
    "        assert len(dec_outputs) == self.n_layers + 1\n",
    "        assert dec_outputs[-1].size() == (bs, self.img_fm, self.img_sz, self.img_sz)\n",
    "        return dec_outputs\n",
    "\n",
    "    def forward(self, x, y):\n",
    "        enc_outputs = self.encode(x)\n",
    "        dec_outputs = self.decode(enc_outputs, y)\n",
    "        return enc_outputs, dec_outputs"
   ]
  },
  {
   "cell_type": "code",
   "execution_count": 29,
   "metadata": {},
   "outputs": [],
   "source": [
    "input_attrs = [('Male', 2), ('Smiling', 2)]\n",
    "#instance_norm, init_fm, max_fm, n_layers, n_skip, deconv_method, dec_dropout, attr, n_attr\n",
    "\n",
    "img_sz= 256\n",
    "img_fm=3 \n",
    "instance_norm = False\n",
    "init_fm = 32\n",
    "max_fm = 512\n",
    "n_layers = 6\n",
    "n_skip = 0 \n",
    "deconv_method = 'convtranspose'\n",
    "dec_dropout = 0.0\n",
    "attr = input_attrs\n",
    "n_attr = len(input_attrs)\n",
    "ae = AutoEncoder(img_sz, img_fm, instance_norm, init_fm, max_fm, n_layers, n_skip,deconv_method, dec_dropout, attr, n_attr).cuda()"
   ]
  },
  {
   "cell_type": "code",
   "execution_count": 32,
   "metadata": {},
   "outputs": [
    {
     "data": {
      "text/plain": [
       "AutoEncoder(\n",
       "  (enc_layers): ModuleList(\n",
       "    (0): Sequential(\n",
       "      (0): Conv2d(3, 32, kernel_size=(4, 4), stride=(2, 2), padding=(1, 1))\n",
       "      (1): LeakyReLU(negative_slope=0.2, inplace)\n",
       "    )\n",
       "    (1): Sequential(\n",
       "      (0): Conv2d(32, 64, kernel_size=(4, 4), stride=(2, 2), padding=(1, 1))\n",
       "      (1): BatchNorm2d(64, eps=1e-05, momentum=0.1, affine=True, track_running_stats=True)\n",
       "      (2): LeakyReLU(negative_slope=0.2, inplace)\n",
       "    )\n",
       "    (2): Sequential(\n",
       "      (0): Conv2d(64, 128, kernel_size=(4, 4), stride=(2, 2), padding=(1, 1))\n",
       "      (1): BatchNorm2d(128, eps=1e-05, momentum=0.1, affine=True, track_running_stats=True)\n",
       "      (2): LeakyReLU(negative_slope=0.2, inplace)\n",
       "    )\n",
       "    (3): Sequential(\n",
       "      (0): Conv2d(128, 256, kernel_size=(4, 4), stride=(2, 2), padding=(1, 1))\n",
       "      (1): BatchNorm2d(256, eps=1e-05, momentum=0.1, affine=True, track_running_stats=True)\n",
       "      (2): LeakyReLU(negative_slope=0.2, inplace)\n",
       "    )\n",
       "    (4): Sequential(\n",
       "      (0): Conv2d(256, 512, kernel_size=(4, 4), stride=(2, 2), padding=(1, 1))\n",
       "      (1): BatchNorm2d(512, eps=1e-05, momentum=0.1, affine=True, track_running_stats=True)\n",
       "      (2): LeakyReLU(negative_slope=0.2, inplace)\n",
       "    )\n",
       "    (5): Sequential(\n",
       "      (0): Conv2d(512, 512, kernel_size=(4, 4), stride=(2, 2), padding=(1, 1))\n",
       "      (1): BatchNorm2d(512, eps=1e-05, momentum=0.1, affine=True, track_running_stats=True)\n",
       "      (2): LeakyReLU(negative_slope=0.2, inplace)\n",
       "    )\n",
       "  )\n",
       "  (dec_layers): ModuleList(\n",
       "    (0): Sequential(\n",
       "      (0): ConvTranspose2d(514, 512, kernel_size=(4, 4), stride=(2, 2), padding=(1, 1), bias=False)\n",
       "      (1): BatchNorm2d(512, eps=1e-05, momentum=0.1, affine=True, track_running_stats=True)\n",
       "      (2): ReLU(inplace)\n",
       "    )\n",
       "    (1): Sequential(\n",
       "      (0): ConvTranspose2d(514, 256, kernel_size=(4, 4), stride=(2, 2), padding=(1, 1), bias=False)\n",
       "      (1): BatchNorm2d(256, eps=1e-05, momentum=0.1, affine=True, track_running_stats=True)\n",
       "      (2): ReLU(inplace)\n",
       "    )\n",
       "    (2): Sequential(\n",
       "      (0): ConvTranspose2d(258, 128, kernel_size=(4, 4), stride=(2, 2), padding=(1, 1), bias=False)\n",
       "      (1): BatchNorm2d(128, eps=1e-05, momentum=0.1, affine=True, track_running_stats=True)\n",
       "      (2): ReLU(inplace)\n",
       "    )\n",
       "    (3): Sequential(\n",
       "      (0): ConvTranspose2d(130, 64, kernel_size=(4, 4), stride=(2, 2), padding=(1, 1), bias=False)\n",
       "      (1): BatchNorm2d(64, eps=1e-05, momentum=0.1, affine=True, track_running_stats=True)\n",
       "      (2): ReLU(inplace)\n",
       "    )\n",
       "    (4): Sequential(\n",
       "      (0): ConvTranspose2d(66, 32, kernel_size=(4, 4), stride=(2, 2), padding=(1, 1), bias=False)\n",
       "      (1): BatchNorm2d(32, eps=1e-05, momentum=0.1, affine=True, track_running_stats=True)\n",
       "      (2): ReLU(inplace)\n",
       "    )\n",
       "    (5): Sequential(\n",
       "      (0): ConvTranspose2d(34, 3, kernel_size=(4, 4), stride=(2, 2), padding=(1, 1), bias=False)\n",
       "      (1): Tanh()\n",
       "    )\n",
       "  )\n",
       ")"
      ]
     },
     "execution_count": 32,
     "metadata": {},
     "output_type": "execute_result"
    }
   ],
   "source": [
    "ae"
   ]
  },
  {
   "cell_type": "code",
   "execution_count": 37,
   "metadata": {},
   "outputs": [],
   "source": [
    "class LatentDiscriminator(nn.Module):\n",
    "\n",
    "    def __init__(self, img_sz, img_fz, instance_norm, init_fm, max_fm, n_layers, n_skip, deconv_method, dec_dropout, attr, n_attr, hid_dim):\n",
    "        super(LatentDiscriminator, self).__init__()\n",
    "\n",
    "        \n",
    "        self.img_sz = img_sz #Image sizes (images have to be squared)\n",
    "        self.img_fm = img_fm #Number of feature maps (3 for RGB)\n",
    "        self.instance_norm = instance_norm # Use instance normalization instead of batch normalization\n",
    "        self.init_fm = init_fm #Number of initial filters in the encoder\n",
    "        self.max_fm = max_fm #Number maximum of filters in the autoencoder\n",
    "        self.n_layers = n_layers #Number of layers in the encoder / decoder\n",
    "        self.n_skip = n_skip #Number of skip connections\n",
    "        self.deconv_method = deconv_method # Deconvolution method (default : convtranspose)\n",
    "        self.dropout = dec_dropout #Dropout in the decoder\n",
    "        self.attr = attr\n",
    "        self.n_attr = n_attr\n",
    "        self.hid_dim = hid_dim\n",
    "        \n",
    "        self.n_dis_layers = int(np.log2(self.img_sz))\n",
    "        self.conv_in_sz = self.img_sz / (2 ** (self.n_layers - self.n_skip))\n",
    "        self.conv_in_fm = min(self.init_fm * (2 ** (self.n_layers - self.n_skip - 1)), self.max_fm)\n",
    "        self.conv_out_fm = min(self.init_fm * (2 ** (self.n_dis_layers - 1)), self.max_fm)\n",
    "\n",
    "        # discriminator layers are identical to encoder, but convolve until size 1\n",
    "        enc_layers, _ = build_layers(self.img_sz, self.img_fm, self.init_fm, self.max_fm,\n",
    "                                     self.n_dis_layers, self.n_attr, 0, 'convtranspose',\n",
    "                                     False, self.dropout, 0)\n",
    "\n",
    "        self.conv_layers = nn.Sequential(*(enc_layers[self.n_layers - self.n_skip:]))\n",
    "        self.proj_layers = nn.Sequential(\n",
    "            nn.Linear(self.conv_out_fm, self.hid_dim),\n",
    "            nn.LeakyReLU(0.2, inplace=True),\n",
    "            nn.Linear(self.hid_dim, self.n_attr)\n",
    "        )\n",
    "\n",
    "    def forward(self, x):\n",
    "        assert x.size()[1:] == (self.conv_in_fm, self.conv_in_sz, self.conv_in_sz)\n",
    "        conv_output = self.conv_layers(x)\n",
    "        assert conv_output.size() == (x.size(0), self.conv_out_fm, 1, 1)\n",
    "        return self.proj_layers(conv_output.view(x.size(0), self.conv_out_fm))"
   ]
  },
  {
   "cell_type": "markdown",
   "metadata": {},
   "source": [
    "#### Latent Discriminator"
   ]
  },
  {
   "cell_type": "code",
   "execution_count": 44,
   "metadata": {},
   "outputs": [],
   "source": [
    "hid_dim = 512"
   ]
  },
  {
   "cell_type": "code",
   "execution_count": 39,
   "metadata": {},
   "outputs": [],
   "source": [
    "lat_dis = LatentDiscriminator(img_sz, img_fm, instance_norm, init_fm, max_fm, n_layers, n_skip,deconv_method, dec_dropout, attr, n_attr, hid_dim).cuda()"
   ]
  },
  {
   "cell_type": "code",
   "execution_count": 40,
   "metadata": {},
   "outputs": [
    {
     "data": {
      "text/plain": [
       "LatentDiscriminator(\n",
       "  (conv_layers): Sequential(\n",
       "    (0): Sequential(\n",
       "      (0): Conv2d(512, 512, kernel_size=(4, 4), stride=(2, 2), padding=(1, 1))\n",
       "      (1): BatchNorm2d(512, eps=1e-05, momentum=0.1, affine=True, track_running_stats=True)\n",
       "      (2): LeakyReLU(negative_slope=0.2, inplace)\n",
       "    )\n",
       "    (1): Sequential(\n",
       "      (0): Conv2d(512, 512, kernel_size=(4, 4), stride=(2, 2), padding=(1, 1))\n",
       "      (1): BatchNorm2d(512, eps=1e-05, momentum=0.1, affine=True, track_running_stats=True)\n",
       "      (2): LeakyReLU(negative_slope=0.2, inplace)\n",
       "    )\n",
       "  )\n",
       "  (proj_layers): Sequential(\n",
       "    (0): Linear(in_features=512, out_features=512, bias=True)\n",
       "    (1): LeakyReLU(negative_slope=0.2, inplace)\n",
       "    (2): Linear(in_features=512, out_features=2, bias=True)\n",
       "  )\n",
       ")"
      ]
     },
     "execution_count": 40,
     "metadata": {},
     "output_type": "execute_result"
    }
   ],
   "source": [
    "lat_dis"
   ]
  },
  {
   "cell_type": "markdown",
   "metadata": {},
   "source": [
    "#### Patch Discriminator"
   ]
  },
  {
   "cell_type": "code",
   "execution_count": 49,
   "metadata": {},
   "outputs": [],
   "source": [
    "class PatchDiscriminator(nn.Module):\n",
    "    def __init__(self, img_sz, img_fm, init_fm, max_fm):\n",
    "        super(PatchDiscriminator, self).__init__()\n",
    "\n",
    "        self.img_sz = img_sz\n",
    "        self.img_fm = img_fm\n",
    "        self.init_fm = init_fm\n",
    "        self.max_fm = max_fm\n",
    "        self.n_patch_dis_layers = 3\n",
    "\n",
    "        layers = []\n",
    "        layers.append(nn.Conv2d(self.img_fm, self.init_fm, kernel_size=4, stride=2, padding=1))\n",
    "        layers.append(nn.LeakyReLU(0.2, True))\n",
    "\n",
    "        n_in = self.init_fm\n",
    "        n_out = min(2 * n_in, self.max_fm)\n",
    "\n",
    "        for n in range(self.n_patch_dis_layers):\n",
    "            stride = 1 if n == self.n_patch_dis_layers - 1 else 2\n",
    "            layers.append(nn.Conv2d(n_in, n_out, kernel_size=4, stride=stride, padding=1))\n",
    "            layers.append(nn.BatchNorm2d(n_out))\n",
    "            layers.append(nn.LeakyReLU(0.2, inplace=True))\n",
    "            if n < self.n_patch_dis_layers - 1:\n",
    "                n_in = n_out\n",
    "                n_out = min(2 * n_out, self.max_fm)\n",
    "\n",
    "        layers.append(nn.Conv2d(n_out, 1, kernel_size=4, stride=1, padding=1))\n",
    "        layers.append(nn.Sigmoid())\n",
    "\n",
    "        self.layers = nn.Sequential(*layers)\n",
    "\n",
    "    def forward(self, x):\n",
    "        assert x.dim() == 4\n",
    "        return self.layers(x).view(x.size(0), -1).mean(1).view(x.size(0))\n"
   ]
  },
  {
   "cell_type": "code",
   "execution_count": 50,
   "metadata": {},
   "outputs": [],
   "source": [
    "patch_dis = PatchDiscriminator(img_sz, img_fm, init_fm, max_fm).cuda()"
   ]
  },
  {
   "cell_type": "markdown",
   "metadata": {},
   "source": [
    "### Classifier"
   ]
  },
  {
   "cell_type": "code",
   "execution_count": 51,
   "metadata": {},
   "outputs": [],
   "source": [
    "class Classifier(nn.Module):\n",
    "\n",
    "    def __init__(self, img_sz, img_fm, init_fm, max_fm, hid_dim, attr, n_attr):\n",
    "        super(Classifier, self).__init__()\n",
    "\n",
    "        self.img_sz = img_sz\n",
    "        self.img_fm = img_fm\n",
    "        self.init_fm = init_fm\n",
    "        self.max_fm = max_fm\n",
    "        self.hid_dim = hid_dim\n",
    "        self.attr = attr\n",
    "        self.n_attr = n_attr\n",
    "\n",
    "        self.n_clf_layers = int(np.log2(self.img_sz))\n",
    "        self.conv_out_fm = min(self.init_fm * (2 ** (self.n_clf_layers - 1)), self.max_fm)\n",
    "\n",
    "        # classifier layers are identical to encoder, but convolve until size 1\n",
    "        enc_layers, _ = build_layers(self.img_sz, self.img_fm, self.init_fm, self.max_fm,\n",
    "                                     self.n_clf_layers, self.n_attr, 0, 'convtranspose',\n",
    "                                     False, 0, 0)\n",
    "\n",
    "        self.conv_layers = nn.Sequential(*enc_layers)\n",
    "        self.proj_layers = nn.Sequential(\n",
    "            nn.Linear(self.conv_out_fm, self.hid_dim),\n",
    "            nn.LeakyReLU(0.2, inplace=True),\n",
    "            nn.Linear(self.hid_dim, self.n_attr)\n",
    "        )\n",
    "\n",
    "    def forward(self, x):\n",
    "        assert x.size()[1:] == (self.img_fm, self.img_sz, self.img_sz)\n",
    "        conv_output = self.conv_layers(x)\n",
    "        assert conv_output.size() == (x.size(0), self.conv_out_fm, 1, 1)\n",
    "        return self.proj_layers(conv_output.view(x.size(0), self.conv_out_fm))"
   ]
  },
  {
   "cell_type": "code",
   "execution_count": 52,
   "metadata": {},
   "outputs": [],
   "source": [
    "cls = Classifier(img_sz, img_fm, init_fm, max_fm, hid_dim, attr, n_attr).cuda()"
   ]
  },
  {
   "cell_type": "markdown",
   "metadata": {},
   "source": [
    "### evaluation classifier"
   ]
  },
  {
   "cell_type": "code",
   "execution_count": 7,
   "metadata": {},
   "outputs": [],
   "source": [
    "import torch"
   ]
  },
  {
   "cell_type": "code",
   "execution_count": 8,
   "metadata": {},
   "outputs": [
    {
     "name": "stderr",
     "output_type": "stream",
     "text": [
      "/home/ubuntu/anaconda3/envs/python3/lib/python3.6/site-packages/torch/serialization.py:316: SourceChangeWarning: source code of class 'torch.nn.modules.container.Sequential' has changed. you can retrieve the original source code by accessing the object's source attribute or set `torch.nn.Module.dump_patches = True` and use the patch tool to revert the changes.\n",
      "  warnings.warn(msg, SourceChangeWarning)\n",
      "/home/ubuntu/anaconda3/envs/python3/lib/python3.6/site-packages/torch/serialization.py:316: SourceChangeWarning: source code of class 'torch.nn.modules.conv.Conv2d' has changed. you can retrieve the original source code by accessing the object's source attribute or set `torch.nn.Module.dump_patches = True` and use the patch tool to revert the changes.\n",
      "  warnings.warn(msg, SourceChangeWarning)\n",
      "/home/ubuntu/anaconda3/envs/python3/lib/python3.6/site-packages/torch/serialization.py:316: SourceChangeWarning: source code of class 'torch.nn.modules.activation.LeakyReLU' has changed. you can retrieve the original source code by accessing the object's source attribute or set `torch.nn.Module.dump_patches = True` and use the patch tool to revert the changes.\n",
      "  warnings.warn(msg, SourceChangeWarning)\n",
      "/home/ubuntu/anaconda3/envs/python3/lib/python3.6/site-packages/torch/serialization.py:316: SourceChangeWarning: source code of class 'torch.nn.modules.batchnorm.BatchNorm2d' has changed. you can retrieve the original source code by accessing the object's source attribute or set `torch.nn.Module.dump_patches = True` and use the patch tool to revert the changes.\n",
      "  warnings.warn(msg, SourceChangeWarning)\n",
      "/home/ubuntu/anaconda3/envs/python3/lib/python3.6/site-packages/torch/serialization.py:316: SourceChangeWarning: source code of class 'torch.nn.modules.linear.Linear' has changed. you can retrieve the original source code by accessing the object's source attribute or set `torch.nn.Module.dump_patches = True` and use the patch tool to revert the changes.\n",
      "  warnings.warn(msg, SourceChangeWarning)\n"
     ]
    }
   ],
   "source": [
    "EVAL_CLF_PATH = \"models/classifier256.pth\"\n",
    "\n",
    "eval_clf = torch.load(EVAL_CLF_PATH).cuda().eval()"
   ]
  },
  {
   "cell_type": "code",
   "execution_count": 9,
   "metadata": {},
   "outputs": [
    {
     "data": {
      "text/plain": [
       "Classifier(\n",
       "  (conv_layers): Sequential(\n",
       "    (0): Sequential(\n",
       "      (0): Conv2d (3, 32, kernel_size=(4, 4), stride=(2, 2), padding=(1, 1))\n",
       "      (1): LeakyReLU(0.2, inplace)\n",
       "    )\n",
       "    (1): Sequential(\n",
       "      (0): Conv2d (32, 64, kernel_size=(4, 4), stride=(2, 2), padding=(1, 1))\n",
       "      (1): BatchNorm2d(64, eps=1e-05, momentum=0.1, affine=True)\n",
       "      (2): LeakyReLU(0.2, inplace)\n",
       "    )\n",
       "    (2): Sequential(\n",
       "      (0): Conv2d (64, 128, kernel_size=(4, 4), stride=(2, 2), padding=(1, 1))\n",
       "      (1): BatchNorm2d(128, eps=1e-05, momentum=0.1, affine=True)\n",
       "      (2): LeakyReLU(0.2, inplace)\n",
       "    )\n",
       "    (3): Sequential(\n",
       "      (0): Conv2d (128, 256, kernel_size=(4, 4), stride=(2, 2), padding=(1, 1))\n",
       "      (1): BatchNorm2d(256, eps=1e-05, momentum=0.1, affine=True)\n",
       "      (2): LeakyReLU(0.2, inplace)\n",
       "    )\n",
       "    (4): Sequential(\n",
       "      (0): Conv2d (256, 512, kernel_size=(4, 4), stride=(2, 2), padding=(1, 1))\n",
       "      (1): BatchNorm2d(512, eps=1e-05, momentum=0.1, affine=True)\n",
       "      (2): LeakyReLU(0.2, inplace)\n",
       "    )\n",
       "    (5): Sequential(\n",
       "      (0): Conv2d (512, 512, kernel_size=(4, 4), stride=(2, 2), padding=(1, 1))\n",
       "      (1): BatchNorm2d(512, eps=1e-05, momentum=0.1, affine=True)\n",
       "      (2): LeakyReLU(0.2, inplace)\n",
       "    )\n",
       "    (6): Sequential(\n",
       "      (0): Conv2d (512, 512, kernel_size=(4, 4), stride=(2, 2), padding=(1, 1))\n",
       "      (1): BatchNorm2d(512, eps=1e-05, momentum=0.1, affine=True)\n",
       "      (2): LeakyReLU(0.2, inplace)\n",
       "    )\n",
       "    (7): Sequential(\n",
       "      (0): Conv2d (512, 512, kernel_size=(4, 4), stride=(2, 2), padding=(1, 1))\n",
       "      (1): BatchNorm2d(512, eps=1e-05, momentum=0.1, affine=True)\n",
       "      (2): LeakyReLU(0.2, inplace)\n",
       "    )\n",
       "  )\n",
       "  (proj_layers): Sequential(\n",
       "    (0): Linear(in_features=512, out_features=1024)\n",
       "    (1): LeakyReLU(0.2, inplace)\n",
       "    (2): Linear(in_features=1024, out_features=80)\n",
       "  )\n",
       ")"
      ]
     },
     "execution_count": 9,
     "metadata": {},
     "output_type": "execute_result"
    }
   ],
   "source": [
    "eval_clf"
   ]
  },
  {
   "cell_type": "code",
   "execution_count": 10,
   "metadata": {},
   "outputs": [],
   "source": [
    "class Trainer(object):\n",
    "\n",
    "    def __init__(self, ae, lat_dis, ptc_dis, clf_dis, data, params):\n",
    "        \"\"\"\n",
    "        Trainer initialization.\n",
    "        \"\"\"\n",
    "        # data / parameters\n",
    "        self.data = data\n",
    "        self.params = params\n",
    "\n",
    "        # modules\n",
    "        self.ae = ae\n",
    "        self.lat_dis = lat_dis\n",
    "        self.ptc_dis = ptc_dis\n",
    "        self.clf_dis = clf_dis\n",
    "\n",
    "        # optimizers\n",
    "        self.ae_optimizer = get_optimizer(ae, params.ae_optimizer)\n",
    "        logger.info(ae)\n",
    "        logger.info('%i parameters in the autoencoder. '\n",
    "                    % sum([p.nelement() for p in ae.parameters()]))\n",
    "        if params.n_lat_dis:\n",
    "            logger.info(lat_dis)\n",
    "            logger.info('%i parameters in the latent discriminator. '\n",
    "                        % sum([p.nelement() for p in lat_dis.parameters()]))\n",
    "            self.lat_dis_optimizer = get_optimizer(lat_dis, params.dis_optimizer)\n",
    "        if params.n_ptc_dis:\n",
    "            logger.info(ptc_dis)\n",
    "            logger.info('%i parameters in the patch discriminator. '\n",
    "                        % sum([p.nelement() for p in ptc_dis.parameters()]))\n",
    "            self.ptc_dis_optimizer = get_optimizer(ptc_dis, params.dis_optimizer)\n",
    "        if params.n_clf_dis:\n",
    "            logger.info(clf_dis)\n",
    "            logger.info('%i parameters in the classifier discriminator. '\n",
    "                        % sum([p.nelement() for p in clf_dis.parameters()]))\n",
    "            self.clf_dis_optimizer = get_optimizer(clf_dis, params.dis_optimizer)\n",
    "\n",
    "        # reload pretrained models\n",
    "        if params.ae_reload:\n",
    "            reload_model(ae, params.ae_reload,\n",
    "                         ['img_sz', 'img_fm', 'init_fm', 'n_layers', 'n_skip', 'attr', 'n_attr'])\n",
    "        if params.lat_dis_reload:\n",
    "            reload_model(lat_dis, params.lat_dis_reload,\n",
    "                         ['enc_dim', 'attr', 'n_attr'])\n",
    "        if params.ptc_dis_reload:\n",
    "            reload_model(ptc_dis, params.ptc_dis_reload,\n",
    "                         ['img_sz', 'img_fm', 'init_fm', 'max_fm', 'n_patch_dis_layers'])\n",
    "        if params.clf_dis_reload:\n",
    "            reload_model(clf_dis, params.clf_dis_reload,\n",
    "                         ['img_sz', 'img_fm', 'init_fm', 'max_fm', 'hid_dim', 'attr', 'n_attr'])\n",
    "\n",
    "        # training statistics\n",
    "        self.stats = {}\n",
    "        self.stats['rec_costs'] = []\n",
    "        self.stats['lat_dis_costs'] = []\n",
    "        self.stats['ptc_dis_costs'] = []\n",
    "        self.stats['clf_dis_costs'] = []\n",
    "\n",
    "        # best reconstruction loss / best accuracy\n",
    "        self.best_loss = 1e12\n",
    "        self.best_accu = -1e12\n",
    "        self.params.n_total_iter = 0\n",
    "\n",
    "    def lat_dis_step(self):\n",
    "        \"\"\"\n",
    "        Train the latent discriminator.\n",
    "        \"\"\"\n",
    "        data = self.data\n",
    "        params = self.params\n",
    "        self.ae.eval()\n",
    "        self.lat_dis.train()\n",
    "        bs = params.batch_size\n",
    "        # batch / encode / discriminate\n",
    "        batch_x, batch_y = data.train_batch(bs)\n",
    "        enc_outputs = self.ae.encode(Variable(batch_x.data, volatile=True))\n",
    "        preds = self.lat_dis(Variable(enc_outputs[-1 - params.n_skip].data))\n",
    "        # loss / optimize\n",
    "        loss = get_attr_loss(preds, batch_y, False, params)\n",
    "        self.stats['lat_dis_costs'].append(loss.data[0])\n",
    "        self.lat_dis_optimizer.zero_grad()\n",
    "        loss.backward()\n",
    "        if params.clip_grad_norm:\n",
    "            clip_grad_norm(self.lat_dis.parameters(), params.clip_grad_norm)\n",
    "        self.lat_dis_optimizer.step()\n",
    "\n",
    "    def ptc_dis_step(self):\n",
    "        \"\"\"\n",
    "        Train the patch discriminator.\n",
    "        \"\"\"\n",
    "        data = self.data\n",
    "        params = self.params\n",
    "        self.ae.eval()\n",
    "        self.ptc_dis.train()\n",
    "        bs = params.batch_size\n",
    "        # batch / encode / discriminate\n",
    "        batch_x, batch_y = data.train_batch(bs)\n",
    "        flipped = flip_attributes(batch_y, params, 'all')\n",
    "        _, dec_outputs = self.ae(Variable(batch_x.data, volatile=True), flipped)\n",
    "        real_preds = self.ptc_dis(batch_x)\n",
    "        fake_preds = self.ptc_dis(Variable(dec_outputs[-1].data))\n",
    "        y_fake = Variable(torch.FloatTensor(real_preds.size())\n",
    "                               .fill_(params.smooth_label).cuda())\n",
    "        # loss / optimize\n",
    "        loss = F.binary_cross_entropy(real_preds, 1 - y_fake)\n",
    "        loss += F.binary_cross_entropy(fake_preds, y_fake)\n",
    "        self.stats['ptc_dis_costs'].append(loss.data[0])\n",
    "        self.ptc_dis_optimizer.zero_grad()\n",
    "        loss.backward()\n",
    "        if params.clip_grad_norm:\n",
    "            clip_grad_norm(self.ptc_dis.parameters(), params.clip_grad_norm)\n",
    "        self.ptc_dis_optimizer.step()\n",
    "\n",
    "    def clf_dis_step(self):\n",
    "        \"\"\"\n",
    "        Train the classifier discriminator.\n",
    "        \"\"\"\n",
    "        data = self.data\n",
    "        params = self.params\n",
    "        self.clf_dis.train()\n",
    "        bs = params.batch_size\n",
    "        # batch / predict\n",
    "        batch_x, batch_y = data.train_batch(bs)\n",
    "        preds = self.clf_dis(batch_x)\n",
    "        # loss / optimize\n",
    "        loss = get_attr_loss(preds, batch_y, False, params)\n",
    "        self.stats['clf_dis_costs'].append(loss.data[0])\n",
    "        self.clf_dis_optimizer.zero_grad()\n",
    "        loss.backward()\n",
    "        if params.clip_grad_norm:\n",
    "            clip_grad_norm(self.clf_dis.parameters(), params.clip_grad_norm)\n",
    "        self.clf_dis_optimizer.step()\n",
    "\n",
    "    def autoencoder_step(self):\n",
    "        \"\"\"\n",
    "        Train the autoencoder with cross-entropy loss.\n",
    "        Train the encoder with discriminator loss.\n",
    "        \"\"\"\n",
    "        data = self.data\n",
    "        params = self.params\n",
    "        self.ae.train()\n",
    "        if params.n_lat_dis:\n",
    "            self.lat_dis.eval()\n",
    "        if params.n_ptc_dis:\n",
    "            self.ptc_dis.eval()\n",
    "        if params.n_clf_dis:\n",
    "            self.clf_dis.eval()\n",
    "        bs = params.batch_size\n",
    "        # batch / encode / decode\n",
    "        batch_x, batch_y = data.train_batch(bs)\n",
    "        enc_outputs, dec_outputs = self.ae(batch_x, batch_y)\n",
    "        # autoencoder loss from reconstruction\n",
    "        loss = params.lambda_ae * ((batch_x - dec_outputs[-1]) ** 2).mean()\n",
    "        self.stats['rec_costs'].append(loss.data[0])\n",
    "        # encoder loss from the latent discriminator\n",
    "        if params.lambda_lat_dis:\n",
    "            lat_dis_preds = self.lat_dis(enc_outputs[-1 - params.n_skip])\n",
    "            lat_dis_loss = get_attr_loss(lat_dis_preds, batch_y, True, params)\n",
    "            loss = loss + get_lambda(params.lambda_lat_dis, params) * lat_dis_loss\n",
    "        # decoding with random labels\n",
    "        if params.lambda_ptc_dis + params.lambda_clf_dis > 0:\n",
    "            flipped = flip_attributes(batch_y, params, 'all')\n",
    "            dec_outputs_flipped = self.ae.decode(enc_outputs, flipped)\n",
    "        # autoencoder loss from the patch discriminator\n",
    "        if params.lambda_ptc_dis:\n",
    "            ptc_dis_preds = self.ptc_dis(dec_outputs_flipped[-1])\n",
    "            y_fake = Variable(torch.FloatTensor(ptc_dis_preds.size())\n",
    "                                   .fill_(params.smooth_label).cuda())\n",
    "            ptc_dis_loss = F.binary_cross_entropy(ptc_dis_preds, 1 - y_fake)\n",
    "            loss = loss + get_lambda(params.lambda_ptc_dis, params) * ptc_dis_loss\n",
    "        # autoencoder loss from the classifier discriminator\n",
    "        if params.lambda_clf_dis:\n",
    "            clf_dis_preds = self.clf_dis(dec_outputs_flipped[-1])\n",
    "            clf_dis_loss = get_attr_loss(clf_dis_preds, flipped, False, params)\n",
    "            loss = loss + get_lambda(params.lambda_clf_dis, params) * clf_dis_loss\n",
    "        # check NaN\n",
    "        if (loss != loss).data.any():\n",
    "            logger.error(\"NaN detected\")\n",
    "            exit()\n",
    "        # optimize\n",
    "        self.ae_optimizer.zero_grad()\n",
    "        loss.backward()\n",
    "        if params.clip_grad_norm:\n",
    "            clip_grad_norm(self.ae.parameters(), params.clip_grad_norm)\n",
    "        self.ae_optimizer.step()\n",
    "\n",
    "    def step(self, n_iter):\n",
    "        \"\"\"\n",
    "        End training iteration / print training statistics.\n",
    "        \"\"\"\n",
    "        # average loss\n",
    "        if len(self.stats['rec_costs']) >= 25:\n",
    "            mean_loss = [\n",
    "                ('Latent discriminator', 'lat_dis_costs'),\n",
    "                ('Patch discriminator', 'ptc_dis_costs'),\n",
    "                ('Classifier discriminator', 'clf_dis_costs'),\n",
    "                ('Reconstruction loss', 'rec_costs'),\n",
    "            ]\n",
    "            logger.info(('%06i - ' % n_iter) +\n",
    "                        ' / '.join(['%s : %.5f' % (a, np.mean(self.stats[b]))\n",
    "                                    for a, b in mean_loss if len(self.stats[b]) > 0]))\n",
    "            del self.stats['rec_costs'][:]\n",
    "            del self.stats['lat_dis_costs'][:]\n",
    "            del self.stats['ptc_dis_costs'][:]\n",
    "            del self.stats['clf_dis_costs'][:]\n",
    "\n",
    "        self.params.n_total_iter += 1\n",
    "\n",
    "    def save_model(self, name):\n",
    "        \"\"\"\n",
    "        Save the model.\n",
    "        \"\"\"\n",
    "        def save(model, filename):\n",
    "            path = os.path.join(self.params.dump_path, '%s_%s.pth' % (name, filename))\n",
    "            logger.info('Saving %s to %s ...' % (filename, path))\n",
    "            torch.save(model, path)\n",
    "        save(self.ae, 'ae')\n",
    "        if self.params.n_lat_dis:\n",
    "            save(self.lat_dis, 'lat_dis')\n",
    "        if self.params.n_ptc_dis:\n",
    "            save(self.ptc_dis, 'ptc_dis')\n",
    "        if self.params.n_clf_dis:\n",
    "            save(self.clf_dis, 'clf_dis')\n",
    "\n",
    "    def save_best_periodic(self, to_log):\n",
    "        \"\"\"\n",
    "        Save the best models / periodically save the models.\n",
    "        \"\"\"\n",
    "        if to_log['ae_loss'] < self.best_loss:\n",
    "            self.best_loss = to_log['ae_loss']\n",
    "            logger.info('Best reconstruction loss: %.5f' % self.best_loss)\n",
    "            self.save_model('best_rec')\n",
    "        if self.params.eval_clf and np.mean(to_log['clf_accu']) > self.best_accu:\n",
    "            self.best_accu = np.mean(to_log['clf_accu'])\n",
    "            logger.info('Best evaluation accuracy: %.5f' % self.best_accu)\n",
    "            self.save_model('best_accu')\n",
    "        if to_log['n_epoch'] % 5 == 0 and to_log['n_epoch'] > 0:\n",
    "            self.save_model('periodic-%i' % to_log['n_epoch'])"
   ]
  },
  {
   "cell_type": "code",
   "execution_count": null,
   "metadata": {},
   "outputs": [],
   "source": []
  }
 ],
 "metadata": {
  "kernelspec": {
   "display_name": "Environment (conda_python3)",
   "language": "python",
   "name": "conda_python3"
  },
  "language_info": {
   "codemirror_mode": {
    "name": "ipython",
    "version": 3
   },
   "file_extension": ".py",
   "mimetype": "text/x-python",
   "name": "python",
   "nbconvert_exporter": "python",
   "pygments_lexer": "ipython3",
   "version": "3.6.4"
  }
 },
 "nbformat": 4,
 "nbformat_minor": 2
}
